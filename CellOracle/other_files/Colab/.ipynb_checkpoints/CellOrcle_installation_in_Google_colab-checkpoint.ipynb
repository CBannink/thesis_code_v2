{
 "cells": [
  {
   "cell_type": "code",
   "execution_count": null,
   "metadata": {
    "id": "nh2EXA7bWiwh"
   },
   "outputs": [],
   "source": [
    "!pip install git+https://github.com/morris-lab/CellOracle.git\n"
   ]
  },
  {
   "cell_type": "code",
   "execution_count": null,
   "metadata": {
    "id": "JKu93I1GYe4H"
   },
   "outputs": [],
   "source": [
    "!pip install PyYAML==5.4.1"
   ]
  },
  {
   "cell_type": "code",
   "execution_count": null,
   "metadata": {
    "id": "bRimci2fgOG5"
   },
   "outputs": [],
   "source": [
    "!apt-get install libgsl-dev"
   ]
  },
  {
   "cell_type": "code",
   "execution_count": null,
   "metadata": {
    "id": "Cy6kToqBbCk5"
   },
   "outputs": [],
   "source": [
    "%load_ext rpy2.ipython"
   ]
  },
  {
   "cell_type": "code",
   "execution_count": null,
   "metadata": {
    "id": "VJV-XjXJb6S5"
   },
   "outputs": [],
   "source": [
    "%%R\n",
    "install.packages(\"https://cran.r-project.org/src/contrib/Archive/rnetcarto/rnetcarto_0.2.4.tar.gz\", \n",
    "                 repos = NULL, type = \"source\", configure.args = '--host=host')"
   ]
  },
  {
   "cell_type": "code",
   "execution_count": null,
   "metadata": {
    "id": "GFP66kIebTdp"
   },
   "outputs": [],
   "source": [
    "%%R\n",
    "install.packages(\"linkcomm\")"
   ]
  },
  {
   "cell_type": "code",
   "execution_count": null,
   "metadata": {
    "id": "U0yr3dq4Yh-H"
   },
   "outputs": [],
   "source": [
    "%%R\n",
    "install.packages(\"igraph\")"
   ]
  },
  {
   "cell_type": "code",
   "execution_count": null,
   "metadata": {
    "id": "87MzxilRggkg"
   },
   "outputs": [],
   "source": [
    "# Check python dependent package installation status \n",
    "import celloracle as co\n",
    "co.check_python_requirements()"
   ]
  },
  {
   "cell_type": "code",
   "execution_count": null,
   "metadata": {
    "id": "b-IE00WXZkUo"
   },
   "outputs": [],
   "source": [
    "# Check R dependent package installation status \n",
    "co.network_analysis.test_R_libraries_installation()"
   ]
  },
  {
   "cell_type": "code",
   "execution_count": null,
   "metadata": {
    "id": "zouCW5Gjgdqa"
   },
   "outputs": [],
   "source": []
  }
 ],
 "metadata": {
  "colab": {
   "collapsed_sections": [],
   "name": "CellOrcle installation in Google colab.ipynb",
   "provenance": []
  },
  "kernelspec": {
   "display_name": "Python 3",
   "language": "python",
   "name": "python3"
  },
  "language_info": {
   "codemirror_mode": {
    "name": "ipython",
    "version": 3
   },
   "file_extension": ".py",
   "mimetype": "text/x-python",
   "name": "python",
   "nbconvert_exporter": "python",
   "pygments_lexer": "ipython3",
   "version": "3.6.10"
  }
 },
 "nbformat": 4,
 "nbformat_minor": 1
}
