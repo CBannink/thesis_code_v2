{
 "cells": [
  {
   "cell_type": "code",
   "execution_count": null,
   "id": "initial_id",
   "metadata": {
    "collapsed": true
   },
   "outputs": [],
   "source": []
  },
  {
   "cell_type": "code",
   "execution_count": 1,
   "id": "98cef95d6bd26c14",
   "metadata": {
    "ExecuteTime": {
     "end_time": "2025-04-20T15:01:58.445721Z",
     "start_time": "2025-04-20T15:01:58.367486Z"
    }
   },
   "outputs": [],
   "source": [
    "%load_ext autoreload\n",
    "%autoreload 2"
   ]
  },
  {
   "cell_type": "code",
   "execution_count": 2,
   "id": "db09c2f542629964",
   "metadata": {
    "ExecuteTime": {
     "end_time": "2025-04-20T15:01:58.507033Z",
     "start_time": "2025-04-20T15:01:58.471246Z"
    }
   },
   "outputs": [
    {
     "name": "stdout",
     "output_type": "stream",
     "text": [
      "/home/caspar/thesis_code/complete_project/notebooks\n",
      "/home/caspar/thesis_code\n"
     ]
    }
   ],
   "source": [
    "import sys\n",
    "import os\n",
    "print(os.getcwd())\n",
    "os.chdir('../../complete_project/../')\n",
    "print(os.getcwd())\n",
    "# Then set up the paths\n",
    "# import sys\n",
    "\n",
    "# import os\n",
    "# os.environ['PYTHONPATH'] = os.getcwd()  # Now points to thesis_code directory\n",
    "# sys.path.append(os.environ['PYTHONPATH'])\n",
    "sys.path.append(\"/home/caspar/thesis_code/CellOracle\")\n",
    "sys.path.append(\"/home/caspar/thesis_code/complete_project/py files\")\n",
    "# print(sys.path)\n"
   ]
  },
  {
   "cell_type": "code",
   "execution_count": 3,
   "id": "265c0c85a9f451e4",
   "metadata": {
    "ExecuteTime": {
     "end_time": "2025-04-20T15:07:39.760546Z",
     "start_time": "2025-04-20T15:01:58.978094Z"
    }
   },
   "outputs": [
    {
     "name": "stderr",
     "output_type": "stream",
     "text": [
      "Matplotlib is building the font cache; this may take a moment.\n"
     ]
    }
   ],
   "source": [
    "#pickle model\n",
    "import PickleOracleModel as pickle_module\n"
   ]
  },
  {
   "cell_type": "code",
   "execution_count": null,
   "id": "5fb92d2b8e8162e6",
   "metadata": {},
   "outputs": [],
   "source": []
  }
 ],
 "metadata": {
  "kernelspec": {
   "display_name": "Python 3",
   "language": "python",
   "name": "python3"
  },
  "language_info": {
   "codemirror_mode": {
    "name": "ipython",
    "version": 2
   },
   "file_extension": ".py",
   "mimetype": "text/x-python",
   "name": "python",
   "nbconvert_exporter": "python",
   "pygments_lexer": "ipython2",
   "version": "2.7.6"
  }
 },
 "nbformat": 4,
 "nbformat_minor": 5
}
