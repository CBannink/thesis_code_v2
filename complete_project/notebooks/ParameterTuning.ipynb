{
 "cells": [
  {
   "cell_type": "code",
   "execution_count": 1,
   "id": "initial_id",
   "metadata": {
    "ExecuteTime": {
     "end_time": "2025-06-26T08:25:13.305022Z",
     "start_time": "2025-06-26T08:24:18.781531Z"
    }
   },
   "outputs": [
    {
     "name": "stdout",
     "output_type": "stream",
     "text": [
      "/home/caspar/thesis_code/complete_project/notebooks\n",
      "/home/caspar/thesis_code\n"
     ]
    }
   ],
   "source": [
    "%load_ext autoreload\n",
    "%autoreload 2\n",
    "import sys\n",
    "import os\n",
    "print(os.getcwd())\n",
    "os.chdir('../../complete_project/../')\n",
    "print(os.getcwd())\n",
    "# Then set up the paths\n",
    "# import sys\n",
    "\n",
    "# import os\n",
    "# os.environ['PYTHONPATH'] = os.getcwd()  # Now points to thesis_code directory\n",
    "# sys.path.append(os.environ['PYTHONPATH'])\n",
    "sys.path.append(\"/home/caspar/thesis_code/CellOracle\")\n",
    "sys.path.append(\"/home/caspar/thesis_code/complete_project/py files\")\n",
    "sys.path.append(\"/home/caspar/thesis_code/complete_project/py files/AIFiles\")\n",
    "sys.path.append(\"/home/caspar/thesis_code/complete_project/py files/baseGRNConstructionFiles\")\n",
    "sys.path.append(\"/home/caspar/thesis_code/complete_project/py files/oracleInferenceFiles\")\n",
    "sys.path.append(\"/home/caspar/thesis_code/complete_project/py files/oracleSetup\")\n",
    "import scanpy as sc\n",
    "import pandas as pd\n",
    "import numpy as np\n",
    "import matplotlib.pyplot as plt\n",
    "import os\n",
    "import anndata\n",
    "import sys\n",
    "import logging\n",
    "from datetime import datetime\n",
    "import wandb\n",
    "import optuna\n",
    "#import modified_celloracle as mco\n",
    "from CellOracle import celloracle as co\n",
    "\n",
    "import CellOracleSetup as setup_module\n",
    "import GRNClusterAnalysis as analysis_module\n",
    "import GRNInference as inference_module\n",
    "import GRNInferenceTest as inference_test_module\n",
    "\n",
    "log_dir = 'logs'\n",
    "os.makedirs(log_dir, exist_ok=True)\n",
    "log_filename = os.path.join(log_dir, f\"app_{datetime.now().strftime('%Y_%m_%d')}.log\")\n",
    "\n",
    "# Configure the basic logging\n",
    "logging.basicConfig(\n",
    "    filename=log_filename,\n",
    "    filemode='a',\n",
    "    level=logging.INFO,\n",
    "    format='%(asctime)s - %(levelname)s - %(message)s'\n",
    ")"
   ]
  },
  {
   "cell_type": "code",
   "execution_count": 2,
   "id": "16321a793b701881",
   "metadata": {
    "ExecuteTime": {
     "end_time": "2025-06-06T11:09:32.563493Z",
     "start_time": "2025-06-06T11:09:31.717948Z"
    }
   },
   "outputs": [
    {
     "name": "stdout",
     "output_type": "stream",
     "text": [
      "Fri Jun  6 13:09:31 2025       \r\n",
      "+-----------------------------------------------------------------------------------------+\r\n",
      "| NVIDIA-SMI 555.42.06              Driver Version: 555.42.06      CUDA Version: 12.5     |\r\n",
      "|-----------------------------------------+------------------------+----------------------+\r\n",
      "| GPU  Name                 Persistence-M | Bus-Id          Disp.A | Volatile Uncorr. ECC |\r\n",
      "| Fan  Temp   Perf          Pwr:Usage/Cap |           Memory-Usage | GPU-Util  Compute M. |\r\n",
      "|                                         |                        |               MIG M. |\r\n",
      "|=========================================+========================+======================|\r\n",
      "|   0  NVIDIA RTX 6000 Ada Gene...    Off |   00000000:AC:00.0  On |                  Off |\r\n",
      "| 30%   38C    P8             25W /  300W |   14810MiB /  49140MiB |      0%      Default |\r\n",
      "|                                         |                        |                  N/A |\r\n",
      "+-----------------------------------------+------------------------+----------------------+\r\n",
      "|   1  NVIDIA RTX 6000 Ada Gene...    Off |   00000000:CA:00.0 Off |                  Off |\r\n",
      "| 71%   74C    P0            295W /  300W |   35934MiB /  49140MiB |    100%      Default |\r\n",
      "|                                         |                        |                  N/A |\r\n",
      "+-----------------------------------------+------------------------+----------------------+\r\n",
      "                                                                                         \r\n",
      "+-----------------------------------------------------------------------------------------+\r\n",
      "| Processes:                                                                              |\r\n",
      "|  GPU   GI   CI        PID   Type   Process name                              GPU Memory |\r\n",
      "|        ID   ID                                                               Usage      |\r\n",
      "|=========================================================================================|\r\n",
      "|    0   N/A  N/A     69090      C   ...da3/envs/gpu_cell_oracle/bin/python      14776MiB |\r\n",
      "|    1   N/A  N/A   3776787      C   python                                      35924MiB |\r\n",
      "+-----------------------------------------------------------------------------------------+\r\n"
     ]
    }
   ],
   "source": [
    "!nvidia-smi\n"
   ]
  },
  {
   "cell_type": "code",
   "execution_count": null,
   "id": "a8f20e7620b98679",
   "metadata": {
    "ExecuteTime": {
     "end_time": "2025-06-25T19:16:29.307542Z",
     "start_time": "2025-06-25T18:55:47.043944Z"
    }
   },
   "outputs": [
    {
     "name": "stderr",
     "output_type": "stream",
     "text": [
      "[I 2025-06-26 19:56:57,205] A new study created in RDB with name: ppo_celloracle_hpo_20250626_1956\n"
     ]
    },
    {
     "name": "stdout",
     "output_type": "stream",
     "text": [
      "running number of trials: 60\n",
      "\n",
      "--- Starting Optuna HPO Study: ppo_celloracle_hpo_20250626_1956 ---\n",
      "test\n"
     ]
    },
    {
     "data": {
      "application/vnd.jupyter.widget-view+json": {
       "model_id": "6948ecfa4dfc4eafb405eb0c4f18e1e4",
       "version_major": 2,
       "version_minor": 0
      },
      "text/plain": [
       "  0%|          | 0/60 [00:00<?, ?it/s]"
      ]
     },
     "metadata": {},
     "output_type": "display_data"
    },
    {
     "name": "stdout",
     "output_type": "stream",
     "text": [
      "\n",
      "---> Starting Optuna Trial 0 <---\n",
      "  --- Hyperparameters for this Trial ---\n",
      "  PPO Agent:\n",
      "    Learning Rate: 0.000071\n",
      "    N_Steps: 256\n",
      "    N_Epochs: 7\n",
      "    Clip Range: 0.1174\n",
      "    Entropy Coef: 0.025985\n",
      "    Gamma (Discount): 0.9874\n",
      "  Reward Function:\n",
      "    Goal Bonus: 14.5787\n",
      "    Fail Penalty: -14.7118\n",
      "    Step Penalty: -0.0655\n",
      "    Same Cell Penalty: -0.9189\n",
      "    Distance Reward Scale: 9.0085\n",
      "    Distance Gamma (PBRS): 0.9591\n",
      "  ------------------------------------\n"
     ]
    },
    {
     "data": {
      "text/html": [
       "Tracking run with wandb version 0.19.10"
      ],
      "text/plain": [
       "<IPython.core.display.HTML object>"
      ]
     },
     "metadata": {},
     "output_type": "display_data"
    },
    {
     "data": {
      "text/html": [
       "Run data is saved locally in <code>../celloracle_data/optuna_hpo_wandb_logs2/wandb/run-20250626_195657-4sk00zcs</code>"
      ],
      "text/plain": [
       "<IPython.core.display.HTML object>"
      ]
     },
     "metadata": {},
     "output_type": "display_data"
    },
    {
     "data": {
      "text/html": [
       "Syncing run <strong><a href='https://wandb.ai/caspar-christiaan-utrecht-university/celloracle%20optuna%20opt/runs/4sk00zcs' target=\"_blank\">2025-06-26_19-56-57_14.57873793026792_-14.711817079858765_-0.06546621021875138_9.008485225328876_True</a></strong> to <a href='https://wandb.ai/caspar-christiaan-utrecht-university/celloracle%20optuna%20opt' target=\"_blank\">Weights & Biases</a> (<a href='https://wandb.me/developer-guide' target=\"_blank\">docs</a>)<br>"
      ],
      "text/plain": [
       "<IPython.core.display.HTML object>"
      ]
     },
     "metadata": {},
     "output_type": "display_data"
    },
    {
     "data": {
      "text/html": [
       " View project at <a href='https://wandb.ai/caspar-christiaan-utrecht-university/celloracle%20optuna%20opt' target=\"_blank\">https://wandb.ai/caspar-christiaan-utrecht-university/celloracle%20optuna%20opt</a>"
      ],
      "text/plain": [
       "<IPython.core.display.HTML object>"
      ]
     },
     "metadata": {},
     "output_type": "display_data"
    },
    {
     "data": {
      "text/html": [
       " View run at <a href='https://wandb.ai/caspar-christiaan-utrecht-university/celloracle%20optuna%20opt/runs/4sk00zcs' target=\"_blank\">https://wandb.ai/caspar-christiaan-utrecht-university/celloracle%20optuna%20opt/runs/4sk00zcs</a>"
      ],
      "text/plain": [
       "<IPython.core.display.HTML object>"
      ]
     },
     "metadata": {},
     "output_type": "display_data"
    },
    {
     "name": "stdout",
     "output_type": "stream",
     "text": [
      "--- Starting Training Run ---\n",
      "Configuration: {'ORACLE_PATH': '../celloracle_data/celloracle_object/new_promoter_without_mescs_trimmed_test_own_umap/ready_oracle.pkl', 'MODEL_SAVE_PATH_BASE': '../celloracle_data/optuna_hpo_models2', 'LOG_DIR_BASE': '../celloracle_data/optuna_hpo_logs2', 'WAND_B_LOG_DIR_BASE': '../celloracle_data/optuna_hpo_wandb_logs2', 'HPO_FIXED_MAX_STEPS_PER_EPISODE': 20, 'TRANSITION_MATRIX': '../celloracle_data/transition_matrix/transition_matrix.pkl', 'BATCH_SIZE': 128, 'USE_MASKABLE_PPO': False, 'VERBOSE': 0, 'LOG_INTERVAL': 10, 'RESET_NUM_TIMESTEPS': False, 'DEVICE': 'auto', 'USE_PROGRESS_BAR': False, 'STEP_SAVE_FREQ': 1000000000, 'PPO_N_STEPS': 256, 'PPO_N_EPOCHS': 7, 'GAMMA': 0.9874323353405531, 'GAE_LAMBDA': 0.95, 'CLIP_RANGE': 0.11742508365045984, 'ENT_COEF': 0.025985284373248055, 'VF_COEF': 0.5, 'MAX_GRAD_NORM': 0.5, 'LEARNING_RATE': 7.106591851092232e-05, 'ALLOW_GENE_ACTIVATION': True, 'STANDARD_SD_FACTOR': 1.5, 'USE_LEARNING_RATE_SCHEDULE': False, 'USE_SIMILARITY_REWARD': True, 'ENV_TYPE': 'FAST', 'USE_PREV_KNOCKOUT': False, 'DIVIDER_OF_TOTAL_STEPS_FOR_CURRICULUM_LEARNING': 20, 'TARGET_CELLS_PER_PHASE': 14, 'MAX_STEP_INCREASE_PER_PHASE': 8, 'MAX_STEPS_FIRST_PHASE': 50000, 'PHASE_STEP_INCREASE': 15000, 'MAX_STEPS_PER_EPISODE': 42, 'OPTUNA_REPORT_INTERVAL': 10000, 'GENE_ACTIVITY_THRESHOLD': 0.01, 'TARGET_DISTANCE_THRESHOLD': 0.1, 'DISTANCE_GAMMA': 0.959091248360355, 'STEP_PENALTY': -0.06546621021875138, 'GOAL_BONUS': 14.57873793026792, 'FAIL_PENALTY': -14.711817079858765, 'SAME_CELL_PENALTY': -0.9188933979989455, 'DISTANCE_REWARD_SCALE': 9.008485225328876, 'PARAMETER_TUNING': True, 'TOTAL_TIMESTEPS_HPO': 4000000, 'PI_ARCH': [512, 256], 'VF_ARCH': [512, 256], 'ACTIVATION_FN': <class 'torch.nn.modules.activation.ReLU'>, 'MODEL_SAVE_PATH': '../celloracle_data/optuna_hpo_models2/trial_0', 'LOG_DIR': '../celloracle_data/optuna_hpo_logs2/trial_0', 'WANDB_RUN_NAME': 't0_lr7.1e-05_ent0.03', 'optuna_trial_obj': <optuna.trial._trial.Trial object at 0x70622c7351b0>, 'TOTAL_TIMESTEPS': 4000000}\n",
      "Initializing CellOracleCustomEnv with batch_size=128...\n",
      "CuPy is available and GPU is accessible.\n",
      "Raw data min: 0.0, max: 18.71354292543993\n",
      "AnnData object with n_obs × n_vars = 30000 × 3000\n",
      "    obs: 'bc_idx', 'colnames', 'obs_names', 'celltype', 'celltype_general'\n",
      "    var: 'rownames', 'mean', 'std', 'symbol', 'isin_top1000_var_mean_genes', 'isin_TFdict_targets', 'isin_TFdict_regulators', 'isin_actve_regulators'\n",
      "    uns: 'celltype_colors', 'neighbors', 'pca', 'umap', 'umap_neighbors_sparse'\n",
      "    obsm: 'X_pca', 'X_umap', 'colnames_factor', 'umap_neighbors'\n",
      "    varm: 'PCs'\n",
      "    layers: 'chic', 'raw_chich_counts', 'raw_count', 'unspliced_spliced', 'normalized_count', 'imputed_count', 'simulation_input'\n",
      "    obsp: 'connectivities', 'distances', 'umap_neighbors_sparse'\n",
      "Finished calculating activation values for 108 genes.\n",
      "get attribute called with name:  render_mode\n",
      "get attribute called with indices:  None\n",
      "UMAP coordinates normalized with StandardScaler with amx:  0.99999994  and min:  -1.0\n",
      "Calculating centroid for celltype: Floor Plate Neural Tube, number of cells: 3024\n",
      "Final centroid for celltype Floor Plate Neural Tube: [0.15103018 3.5827925 ], norm: [-0.26755098 -0.36702746]\n",
      "Calculating centroid for celltype: Reprogramming PGCs, number of cells: 410\n",
      "Final centroid for celltype Reprogramming PGCs: [-0.13800415 10.545729  ], norm: [-0.30736113  0.52565503]\n",
      "Calculating centroid for celltype: Caudal Mesoderm, number of cells: 2869\n",
      "Final centroid for celltype Caudal Mesoderm: [-0.34028184  8.111842  ], norm: [-0.33522215  0.21362104]\n",
      "Calculating centroid for celltype: Naive PGCs, number of cells: 1580\n",
      "Final centroid for celltype Naive PGCs: [-0.36913848 12.424707  ], norm: [-0.33919668  0.76654875]\n",
      "Calculating centroid for celltype: Epiblast, number of cells: 1999\n",
      "Final centroid for celltype Epiblast: [-3.0602849 11.13454  ], norm: [-0.70986354  0.60114324]\n",
      "Calculating centroid for celltype: NMPs, number of cells: 1076\n",
      "Final centroid for celltype NMPs: [0.3204247 6.6997905], norm: [-0.24421889  0.03258687]\n",
      "Calculating centroid for celltype: (pre)Somitic/Wavefront, number of cells: 1143\n",
      "Final centroid for celltype (pre)Somitic/Wavefront: [1.4744222 7.961644 ], norm: [-0.08527257  0.19436264]\n",
      "Calculating centroid for celltype: Dermomyotome, number of cells: 1208\n",
      "Final centroid for celltype Dermomyotome: [3.346641 5.715721], norm: [ 0.17259867 -0.09357524]\n",
      "Calculating centroid for celltype: PGCs, number of cells: 1080\n",
      "Final centroid for celltype PGCs: [ 0.35939455 12.803531  ], norm: [-0.23885158  0.8151156 ]\n",
      "Calculating centroid for celltype: LP/Intermediate Mesoderm, number of cells: 1079\n",
      "Final centroid for celltype LP/Intermediate Mesoderm: [4.1093826 6.2413793], norm: [ 0.27765545 -0.0261833 ]\n",
      "Calculating centroid for celltype: Pharyngeal Mesoderm, number of cells: 967\n",
      "Final centroid for celltype Pharyngeal Mesoderm: [5.4362154 6.075975 ], norm: [ 0.46040708 -0.04738893]\n",
      "Calculating centroid for celltype: Caudal Epiblast, number of cells: 2634\n",
      "Final centroid for celltype Caudal Epiblast: [-0.7592888  9.8951235], norm: [-0.39293417  0.4422448 ]\n",
      "Calculating centroid for celltype: Neural Progenitors, number of cells: 1861\n",
      "Final centroid for celltype Neural Progenitors: [-0.19399272  5.780165  ], norm: [-0.3150727  -0.08531348]\n",
      "Calculating centroid for celltype: Late Motor Neurons, number of cells: 840\n",
      "Final centroid for celltype Late Motor Neurons: [3.319404  0.4959957], norm: [ 0.16884682 -0.7627698 ]\n",
      "Calculating centroid for celltype: Cardiac Mesoderm, number of cells: 720\n",
      "Final centroid for celltype Cardiac Mesoderm: [5.5995193 8.459149 ], norm: [0.4829008  0.25814468]\n",
      "Calculating centroid for celltype: Early Motor Neurons, number of cells: 793\n",
      "Final centroid for celltype Early Motor Neurons: [2.182444  2.2965121], norm: [ 0.01224715 -0.5319347 ]\n",
      "Calculating centroid for celltype: Roof Plate Neural Tube, number of cells: 1336\n",
      "Final centroid for celltype Roof Plate Neural Tube: [-1.1425856  4.133491 ], norm: [-0.44572777 -0.29642552]\n",
      "Calculating centroid for celltype: Primitive Streak, number of cells: 183\n",
      "Final centroid for celltype Primitive Streak: [ 0.41268933 10.246578  ], norm: [-0.23151112  0.48730245]\n",
      "Calculating centroid for celltype: Nascent Mesoderm, number of cells: 730\n",
      "Final centroid for celltype Nascent Mesoderm: [3.5888844 9.237035 ], norm: [0.20596404 0.3578744 ]\n",
      "Calculating centroid for celltype: Visceral Endoderm, number of cells: 1931\n",
      "Final centroid for celltype Visceral Endoderm: [ 4.248622 11.432925], norm: [0.29683396 0.6393976 ]\n",
      "Calculating centroid for celltype: Endothelium, number of cells: 436\n",
      "Final centroid for celltype Endothelium: [8.347851  6.3133297], norm: [ 0.86144304 -0.01695901]\n",
      "Calculating centroid for celltype: ExE Endoderm, number of cells: 582\n",
      "Final centroid for celltype ExE Endoderm: [ 5.838832 12.053093], norm: [0.51586205 0.7189068 ]\n",
      "Calculating centroid for celltype: Sclerotome, number of cells: 529\n",
      "Final centroid for celltype Sclerotome: [4.6159496 6.0439634], norm: [ 0.34742755 -0.05149309]\n",
      "Calculating centroid for celltype: (early) Somite, number of cells: 524\n",
      "Final centroid for celltype (early) Somite: [4.6244535 7.075751 ], norm: [0.34859833 0.08078694]\n",
      "Calculating centroid for celltype: Erythrocytes, number of cells: 68\n",
      "Final centroid for celltype Erythrocytes: [7.9770355 7.998386 ], norm: [0.81036866 0.19907323]\n",
      "Calculating centroid for celltype: Parietal Endoderm, number of cells: 128\n",
      "Final centroid for celltype Parietal Endoderm: [ 3.3503137 13.78757  ], norm: [0.1731044 0.9412746]\n",
      "Calculating centroid for celltype: Epidermis Progenitors, number of cells: 144\n",
      "Final centroid for celltype Epidermis Progenitors: [-4.64016  10.502207], norm: [-0.9274685   0.52007526]\n",
      "Calculating centroid for celltype: Megakaryocytes, number of cells: 53\n",
      "Final centroid for celltype Megakaryocytes: [8.893026 8.032934], norm: [0.9365332  0.20350246]\n",
      "Calculating centroid for celltype: Cardiomyocytes, number of cells: 53\n",
      "Final centroid for celltype Cardiomyocytes: [7.0683675 8.852559 ], norm: [0.68521273 0.30858237]\n",
      "Calculating centroid for celltype: Myotome, number of cells: 20\n",
      "Final centroid for celltype Myotome: [4.0142164 3.6796944], norm: [ 0.26454744 -0.35460392]\n",
      "Number of phases for curriculum learning: 4\n",
      "number of targets: 14\n",
      "3 targets for phase 1\n",
      "3 targets for phase 2\n",
      "3 targets for phase 3\n",
      "3 targets for phase 4\n",
      "Total curriculum targets computed for phases: 4\n",
      "Total curriculum targets for each phase: [3, 3, 3, 3]\n",
      "Total number of celltypes in curriculum: [14, 14, 14]\n",
      "Number of celltypes:  30  so without pcgs we have  27  targets\n",
      "Generating UMAP plot with goal regions (radius: 0.5)...\n",
      "Plot saved to: umap_with_goal_regions.png\n",
      "Policy architecture: {'net_arch': {'pi': [512, 256], 'vf': [512, 256]}, 'activation_fn': <class 'torch.nn.modules.activation.ReLU'>}\n",
      "Agent (PPO) instantiated with architecture: {'pi': [512, 256], 'vf': [512, 256]}\n",
      "Starting training for 4000000 timesteps...\n"
     ]
    }
   ],
   "source": [
    "\n",
    "import os\n",
    "import torch.nn as nn\n",
    "import AI as ai_module # Import the refactored script\n",
    "import ParameterTuning as tuning_module # Import the refactored script\n",
    "\n",
    "data_path_new_data = os.path.join('../celloracle_data', \"celloracle_object/new_promoter_without_mescs_trimmed_test_own_umap\")\n",
    "base_config = {\n",
    "    # Paths\n",
    "    \"ORACLE_PATH\": os.path.join(data_path_new_data, \"ready_oracle.pkl\"),\n",
    "    \"MODEL_SAVE_PATH_BASE\": os.path.join(\"../celloracle_data\", \"optuna_hpo_models2\"), # Base for HPO trial models\n",
    "    \"LOG_DIR_BASE\": os.path.join('../celloracle_data', \"optuna_hpo_logs2\"),         # Base for HPO trial logs\n",
    "    \"WAND_B_LOG_DIR_BASE\": os.path.join('../celloracle_data', \"optuna_hpo_wandb_logs2\"), # Base for HPO trial wandb logs\n",
    "    \"HPO_FIXED_MAX_STEPS_PER_EPISODE\": 20, \n",
    "    \"TRANSITION_MATRIX\": os.path.join(\"../celloracle_data/transition_matrix\", \"transition_matrix.pkl\"), # Path to transition matrix\n",
    "\n",
    "\n",
    "    \"BATCH_SIZE\": 128,\n",
    "    \"USE_MASKABLE_PPO\": False, \n",
    "    \"VERBOSE\": 0,              \n",
    "    \"LOG_INTERVAL\": 10,\n",
    "    \"RESET_NUM_TIMESTEPS\": False,\n",
    "    \"DEVICE\": \"auto\",\n",
    "    \"USE_PROGRESS_BAR\": False,  \n",
    "    \"STEP_SAVE_FREQ\": 1000000000, \n",
    "    \"PPO_N_STEPS\": 512,\n",
    "    \"PPO_N_EPOCHS\": 10,\n",
    "    \"GAMMA\": 0.99,\n",
    "    \"GAE_LAMBDA\": 0.95,\n",
    "    \"CLIP_RANGE\": 0.2,\n",
    "    \"ENT_COEF\": 0.01,       \n",
    "    \"VF_COEF\": 0.5,\n",
    "    \"MAX_GRAD_NORM\": 0.5,\n",
    "    \"LEARNING_RATE\": 3e-4,  \n",
    "\n",
    "    # Environment Specific \n",
    "    \"ALLOW_GENE_ACTIVATION\": True,\n",
    "    \"STANDARD_SD_FACTOR\": 1.5,\n",
    "    \"USE_LEARNING_RATE_SCHEDULE\": False, \n",
    "    \"USE_SIMILARITY_REWARD\": True,\n",
    "    \"ENV_TYPE\": \"FAST\",  #options: FIRST,NEW_INPUT, GENERAL,FAST\n",
    "    \"USE_PREV_KNOCKOUT\": False, \n",
    "\n",
    "    # ENV HYPERPARAMETERS (Some will be tuned by Optuna)\n",
    "    \"DIVIDER_OF_TOTAL_STEPS_FOR_CURRICULUM_LEARNING\": 20,\n",
    "    \"TARGET_CELLS_PER_PHASE\": 14,\n",
    "    \"MAX_STEP_INCREASE_PER_PHASE\": 8,\n",
    "    \"MAX_STEPS_FIRST_PHASE\": 50000, \n",
    "    \"PHASE_STEP_INCREASE\": 15000,\n",
    "    \"MAX_STEPS_PER_EPISODE\": 42,\n",
    "    \"OPTUNA_REPORT_INTERVAL\": 10000,\n",
    "\n",
    "    # Other ENV params\n",
    "    \"GENE_ACTIVITY_THRESHOLD\": 0.01,\n",
    "    \"TARGET_DISTANCE_THRESHOLD\": 0.1,\n",
    "    \"DISTANCE_GAMMA\": 0.99,           \n",
    "    \"STEP_PENALTY\": -0.05,\n",
    "    \"GOAL_BONUS\": 10,\n",
    "    \"FAIL_PENALTY\": -3,\n",
    "    \"SAME_CELL_PENALTY\": -0.5,\n",
    "    \"DISTANCE_REWARD_SCALE\": 5,\n",
    "    \"PARAMETER_TUNING\":True,\n",
    "    \"TOTAL_TIMESTEPS_HPO\": 4000000,\n",
    "\n",
    "\n",
    "    # NN Architecture (Fixed for this example, but can be tuned)\n",
    "    \"PI_ARCH\": [512,256],\n",
    "    \"VF_ARCH\": [512,256],\n",
    "    \"ACTIVATION_FN\": nn.ReLU, # Make sure nn is imported if you use this directly\n",
    "}\n",
    "\n",
    "if base_config[\"USE_SIMILARITY_REWARD\"]:\n",
    "    base_config[\"DISTANCE_REWARD_SCALE\"] = 50\n",
    "else:\n",
    "    base_config[\"DISTANCE_REWARD_SCALE\"] = 5\n",
    "\n",
    "trained_model = tuning_module.run_optuna_hpo(base_config)\n"
   ]
  },
  {
   "cell_type": "code",
   "execution_count": null,
   "id": "4a8e08c2a839f1d4",
   "metadata": {},
   "outputs": [],
   "source": []
  }
 ],
 "metadata": {
  "kernelspec": {
   "display_name": "Python 3 (ipykernel)",
   "language": "python",
   "name": "python3"
  },
  "language_info": {
   "codemirror_mode": {
    "name": "ipython",
    "version": 3
   },
   "file_extension": ".py",
   "mimetype": "text/x-python",
   "name": "python",
   "nbconvert_exporter": "python",
   "pygments_lexer": "ipython3",
   "version": "3.10.17"
  }
 },
 "nbformat": 4,
 "nbformat_minor": 5
}
