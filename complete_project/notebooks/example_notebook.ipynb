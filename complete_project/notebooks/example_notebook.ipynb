{
 "cells": [
  {
   "cell_type": "code",
   "execution_count": 1,
   "id": "initial_id",
   "metadata": {
    "ExecuteTime": {
     "end_time": "2025-01-30T09:37:47.529990Z",
     "start_time": "2025-01-30T09:37:47.481907Z"
    },
    "collapsed": true
   },
   "outputs": [],
   "source": [
    "%load_ext autoreload\n",
    "%autoreload 2\n",
    "\n"
   ]
  },
  {
   "cell_type": "code",
   "execution_count": 2,
   "id": "84652a9fb44e8a53",
   "metadata": {
    "ExecuteTime": {
     "end_time": "2025-01-30T09:38:23.527501Z",
     "start_time": "2025-01-30T09:37:47.558981Z"
    }
   },
   "outputs": [
    {
     "name": "stderr",
     "output_type": "stream",
     "text": [
      "Matplotlib is building the font cache; this may take a moment.\n"
     ]
    }
   ],
   "source": [
    "import scanpy as sc\n",
    "import pandas as pd\n",
    "import numpy as np\n",
    "import matplotlib.pyplot as plt\n",
    "import os\n",
    "import anndata\n",
    "import sys\n",
    "import logging\n",
    "from datetime import datetime\n",
    "import modified_celloracle as mco\n",
    "import CellOracleSetup as setup_module\n",
    "import GRNClusterAnalysis as analysis_module\n",
    "import GRNInference as inference_module\n"
   ]
  },
  {
   "cell_type": "code",
   "execution_count": 3,
   "id": "958e4b62b3541ae7",
   "metadata": {
    "ExecuteTime": {
     "end_time": "2025-01-30T09:38:24.685222Z",
     "start_time": "2025-01-30T09:38:24.610026Z"
    }
   },
   "outputs": [],
   "source": [
    "#all custom Data dirs\n",
    "Gen_Data_Dir =  '../../celloracle_data'\n",
    "OG_Files_Data_Dir = os.path.join(Gen_Data_Dir, 'og_files')\n",
    "Base_GRN_Nec_Files_Dir = os.path.join(Gen_Data_Dir, 'files_for_basegrn_creation')\n",
    "Base_GRN_Dir = os.path.join(Gen_Data_Dir, 'base_grn')\n",
    "Base_Clustering_Data = os.path.join(Gen_Data_Dir, 'clustering_data')\n",
    "Final_SCRNA_Data_Dir = os.path.join(Gen_Data_Dir, 'scrna_final_celloc')\n",
    "\n",
    "\n",
    "#celloracle package dirs\n",
    "Gen_CellOracle_Package_Dir = '../../modified_CellOracle'\n",
    "Gen_CellOracle_Package_Data_Dir = os.path.join(Gen_CellOracle_Package_Dir, 'modified_celloracle/data')\n",
    "Gen_CellOracle_Package_Base_GRN_Data_Dir = os.path.join(Gen_CellOracle_Package_Data_Dir, 'promoter_base_GRN')\n",
    "\n",
    "#celloracleobject dirs\n",
    "CellOracle_Object_Dir_Actual = os.path.join(Gen_Data_Dir, 'celloracle_object/actual')\n",
    "CellOracle_Object_Dir_Example = os.path.join(Gen_Data_Dir, 'celloracle_object/example')"
   ]
  },
  {
   "cell_type": "code",
   "execution_count": 4,
   "id": "8368a7a7b267e5bd",
   "metadata": {
    "ExecuteTime": {
     "end_time": "2025-01-30T09:38:27.036121Z",
     "start_time": "2025-01-30T09:38:24.771006Z"
    }
   },
   "outputs": [],
   "source": [
    "base_GRN = mco.data.load_mouse_scATAC_atlas_base_GRN()\n",
    "adata = mco.data.load_Paul2015_data()\n",
    "n_cells_downsample = 30000\n",
    "if adata.shape[0] > n_cells_downsample:\n",
    "    # Let's dowmsample into 30K cells\n",
    "    sc.pp.subsample(adata, n_obs=n_cells_downsample, random_state=123)\n",
    "\n",
    "adata.X = adata.layers[\"raw_count\"].copy()\n"
   ]
  },
  {
   "cell_type": "code",
   "execution_count": null,
   "id": "beaa329aba3cdb2",
   "metadata": {
    "ExecuteTime": {
     "start_time": "2025-01-30T09:38:27.124796Z"
    },
    "jupyter": {
     "is_executing": true
    }
   },
   "outputs": [
    {
     "name": "stderr",
     "output_type": "stream",
     "text": [
      "2025-01-30 10:38:27,483 - INFO - Creating CellOracle object\n"
     ]
    },
    {
     "name": "stdout",
     "output_type": "stream",
     "text": [
      "45\n",
      "cell number is :2671\n",
      "Auto-selected k is :66\n",
      "CellOracle object created, now creating cluster specific grns\n",
      "This may take a while\n"
     ]
    },
    {
     "data": {
      "application/vnd.jupyter.widget-view+json": {
       "model_id": "46db660b9fa24d249e91526a4979a74c",
       "version_major": 2,
       "version_minor": 0
      },
      "text/plain": [
       "  0%|          | 0/24 [00:00<?, ?it/s]"
      ]
     },
     "metadata": {},
     "output_type": "display_data"
    },
    {
     "name": "stdout",
     "output_type": "stream",
     "text": [
      "Inferring GRN for Ery_0...\n"
     ]
    },
    {
     "data": {
      "application/vnd.jupyter.widget-view+json": {
       "model_id": "3e2bd8fd68bc4512a7e27c694526f82d",
       "version_major": 2,
       "version_minor": 0
      },
      "text/plain": [
       "  0%|          | 0/1849 [00:00<?, ?it/s]"
      ]
     },
     "metadata": {},
     "output_type": "display_data"
    }
   ],
   "source": [
    "setup = setup_module.Setup(base_grn=base_GRN, scRNA_dat=adata, cluster_name='louvain_annot', embedding_name=\"X_draw_graph_fa\", output_dir=CellOracle_Object_Dir_Example, load_dir=CellOracle_Object_Dir_Example, load_from_file_cellOc=False, load_from_file_links=False)\n",
    "links = setup.get_cluster_grns()\n"
   ]
  },
  {
   "cell_type": "code",
   "execution_count": null,
   "id": "5b4f419ffa557037",
   "metadata": {},
   "outputs": [],
   "source": []
  }
 ],
 "metadata": {
  "kernelspec": {
   "display_name": "Python 3",
   "language": "python",
   "name": "python3"
  },
  "language_info": {
   "codemirror_mode": {
    "name": "ipython",
    "version": 2
   },
   "file_extension": ".py",
   "mimetype": "text/x-python",
   "name": "python",
   "nbconvert_exporter": "python",
   "pygments_lexer": "ipython2",
   "version": "2.7.6"
  }
 },
 "nbformat": 4,
 "nbformat_minor": 5
}
