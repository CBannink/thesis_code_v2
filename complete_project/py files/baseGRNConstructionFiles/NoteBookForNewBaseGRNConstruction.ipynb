{
 "cells": [
  {
   "cell_type": "code",
   "execution_count": 1,
   "id": "initial_id",
   "metadata": {
    "ExecuteTime": {
     "end_time": "2025-05-02T10:21:09.230815Z",
     "start_time": "2025-05-02T10:20:22.501215Z"
    },
    "collapsed": true
   },
   "outputs": [
    {
     "name": "stdout",
     "output_type": "stream",
     "text": [
      "/home/caspar/thesis_code/complete_project/py files/baseGRNConstructionFiles\n",
      "/home/caspar/thesis_code\n"
     ]
    }
   ],
   "source": [
    "%load_ext autoreload\n",
    "%autoreload 2\n",
    "import sys\n",
    "import os\n",
    "print(os.getcwd())\n",
    "os.chdir('../../../complete_project/../')\n",
    "print(os.getcwd())\n",
    "# # Then set up the paths\n",
    "\n",
    "sys.path.append(\"/home/caspar/thesis_code/CellOracle\")\n",
    "sys.path.append(\"/home/caspar/thesis_code/complete_project/py files\")\n",
    "sys.path.append(\"/home/caspar/thesis_code/complete_project/py files/baseGRNConstructionFiles\")\n",
    "sys.path.append(\"/home/caspar/thesis_code/complete_project/py files//oracleSetup\")\n",
    "data_path = \"../celloracle_data\"\n",
    "\n",
    "import scanpy as sc\n",
    "import pandas as pd\n",
    "import numpy as np\n",
    "import matplotlib.pyplot as plt\n",
    "import os\n",
    "import anndata\n",
    "import sys\n",
    "import logging\n",
    "from datetime import datetime\n",
    "import wandb\n",
    "#import modified_celloracle as mco\n",
    "from CellOracle import celloracle as co"
   ]
  },
  {
   "cell_type": "code",
   "execution_count": 3,
   "id": "329716fef2fe6fa0",
   "metadata": {
    "ExecuteTime": {
     "end_time": "2025-05-02T10:21:52.718046Z",
     "start_time": "2025-05-02T10:21:46.255404Z"
    }
   },
   "outputs": [],
   "source": [
    "import CreateNewTFToTargetGeneList as cng\n",
    "# cng.create_csv_tf_to_gene()\n",
    "\n",
    "#this runs the conversion from viveks new list to a tf to target gene list as in the tutorial"
   ]
  },
  {
   "cell_type": "code",
   "execution_count": 47,
   "id": "b5420f6ec25aa2e2",
   "metadata": {
    "ExecuteTime": {
     "end_time": "2025-04-28T12:14:19.237194Z",
     "start_time": "2025-04-28T12:14:18.201299Z"
    }
   },
   "outputs": [
    {
     "name": "stdout",
     "output_type": "stream",
     "text": [
      "[[-0.63610077 -1.1842884  -0.6960002  ... -0.4403148  -0.4998571\n",
      "  -0.22031109]\n",
      " [-0.63610077 -0.2682309   0.4123737  ... -0.4403148  -0.4998571\n",
      "  -0.22031109]\n",
      " [ 0.2692036   0.24959585  0.05472444 ...  0.59651417  1.1628774\n",
      "  -0.22031109]\n",
      " ...\n",
      " [-0.63610077  1.5817665  -0.6960002  ... -0.4403148  -0.4998571\n",
      "  -0.22031109]\n",
      " [ 1.9022748   0.55542773  2.1433892  ... -0.4403148  -0.4998571\n",
      "  -0.22031109]\n",
      " [-0.63610077  0.21873394 -0.12518878 ... -0.4403148   0.22984111\n",
      "   1.1268138 ]]\n"
     ]
    }
   ],
   "source": [
    "data = co.data.load_Paul2015_data()\n",
    "print(data.X)"
   ]
  },
  {
   "cell_type": "code",
   "execution_count": 4,
   "id": "b8e98df4a5a0c2f3",
   "metadata": {
    "ExecuteTime": {
     "end_time": "2025-05-02T12:54:38.584848Z",
     "start_time": "2025-05-02T10:22:12.879436Z"
    }
   },
   "outputs": [
    {
     "name": "stdout",
     "output_type": "stream",
     "text": [
      "AnnData object with n_obs × n_vars = 30000 × 3000\n",
      "    obs: 'bc_idx', 'colnames', 'obs_names', 'celltype', 'celltype_general'\n",
      "    var: 'rownames', 'mean', 'std'\n",
      "    uns: 'celltype_colors', 'neighbors', 'pca', 'umap'\n",
      "    obsm: 'X_pca', 'X_umap', 'colnames_factor'\n",
      "    varm: 'PCs'\n",
      "    layers: 'chic', 'raw_chich_counts', 'raw_count', 'unspliced_spliced'\n",
      "    obsp: 'connectivities', 'distances'\n",
      "Number of genes in the dataset: 3000\n"
     ]
    },
    {
     "name": "stderr",
     "output_type": "stream",
     "text": [
      "2025-05-02 12:22:38,605 - INFO - Creating CellOracle object\n"
     ]
    },
    {
     "name": "stdout",
     "output_type": "stream",
     "text": [
      "470\n"
     ]
    },
    {
     "data": {
      "application/vnd.jupyter.widget-view+json": {
       "model_id": "081727c7254b42a88561adba31af78b6",
       "version_major": 2,
       "version_minor": 0
      },
      "text/plain": [
       "  0%|          | 0/40674 [00:00<?, ?it/s]"
      ]
     },
     "metadata": {},
     "output_type": "display_data"
    },
    {
     "name": "stdout",
     "output_type": "stream",
     "text": [
      "50\n",
      "cell number is :30000\n",
      "Auto-selected k is :750\n",
      "CellOracle object created, now creating cluster specific grns\n",
      "This may take a while\n"
     ]
    },
    {
     "data": {
      "application/vnd.jupyter.widget-view+json": {
       "model_id": "77a5d84f7b9a4138a1a19fc93a659507",
       "version_major": 2,
       "version_minor": 0
      },
      "text/plain": [
       "  0%|          | 0/30 [00:00<?, ?it/s]"
      ]
     },
     "metadata": {},
     "output_type": "display_data"
    },
    {
     "name": "stdout",
     "output_type": "stream",
     "text": [
      "Inferring GRN for (early) Somite...\n"
     ]
    },
    {
     "data": {
      "application/vnd.jupyter.widget-view+json": {
       "model_id": "87a0fa0e0a49460aae9776f82bf5cae8",
       "version_major": 2,
       "version_minor": 0
      },
      "text/plain": [
       "  0%|          | 0/2988 [00:00<?, ?it/s]"
      ]
     },
     "metadata": {},
     "output_type": "display_data"
    },
    {
     "name": "stdout",
     "output_type": "stream",
     "text": [
      "Inferring GRN for (pre)Somitic/Wavefront...\n"
     ]
    },
    {
     "data": {
      "application/vnd.jupyter.widget-view+json": {
       "model_id": "9ab8b3adc11f4bc78e95c6edcd74097f",
       "version_major": 2,
       "version_minor": 0
      },
      "text/plain": [
       "  0%|          | 0/2988 [00:00<?, ?it/s]"
      ]
     },
     "metadata": {},
     "output_type": "display_data"
    },
    {
     "name": "stdout",
     "output_type": "stream",
     "text": [
      "Inferring GRN for Cardiac Mesoderm...\n"
     ]
    },
    {
     "data": {
      "application/vnd.jupyter.widget-view+json": {
       "model_id": "153ab180525b498ca775d09001e2481d",
       "version_major": 2,
       "version_minor": 0
      },
      "text/plain": [
       "  0%|          | 0/2988 [00:00<?, ?it/s]"
      ]
     },
     "metadata": {},
     "output_type": "display_data"
    },
    {
     "name": "stdout",
     "output_type": "stream",
     "text": [
      "Inferring GRN for Cardiomyocytes...\n"
     ]
    },
    {
     "data": {
      "application/vnd.jupyter.widget-view+json": {
       "model_id": "47e072c2f4fd4f0a86b524d6e3f7624e",
       "version_major": 2,
       "version_minor": 0
      },
      "text/plain": [
       "  0%|          | 0/2988 [00:00<?, ?it/s]"
      ]
     },
     "metadata": {},
     "output_type": "display_data"
    },
    {
     "name": "stdout",
     "output_type": "stream",
     "text": [
      "Inferring GRN for Caudal Epiblast...\n"
     ]
    },
    {
     "data": {
      "application/vnd.jupyter.widget-view+json": {
       "model_id": "0c473da9cc7f4a53b19e5b298af54c28",
       "version_major": 2,
       "version_minor": 0
      },
      "text/plain": [
       "  0%|          | 0/2988 [00:00<?, ?it/s]"
      ]
     },
     "metadata": {},
     "output_type": "display_data"
    },
    {
     "name": "stdout",
     "output_type": "stream",
     "text": [
      "Inferring GRN for Caudal Mesoderm...\n"
     ]
    },
    {
     "data": {
      "application/vnd.jupyter.widget-view+json": {
       "model_id": "4fc497b40db14da2943459cb2f93607c",
       "version_major": 2,
       "version_minor": 0
      },
      "text/plain": [
       "  0%|          | 0/2988 [00:00<?, ?it/s]"
      ]
     },
     "metadata": {},
     "output_type": "display_data"
    },
    {
     "name": "stdout",
     "output_type": "stream",
     "text": [
      "Inferring GRN for Dermomyotome...\n"
     ]
    },
    {
     "data": {
      "application/vnd.jupyter.widget-view+json": {
       "model_id": "c909f233f0d04628954fede16a6c1405",
       "version_major": 2,
       "version_minor": 0
      },
      "text/plain": [
       "  0%|          | 0/2988 [00:00<?, ?it/s]"
      ]
     },
     "metadata": {},
     "output_type": "display_data"
    },
    {
     "name": "stdout",
     "output_type": "stream",
     "text": [
      "Inferring GRN for Early Motor Neurons...\n"
     ]
    },
    {
     "data": {
      "application/vnd.jupyter.widget-view+json": {
       "model_id": "aaff2fc5653f4b11ab84c9634765fda9",
       "version_major": 2,
       "version_minor": 0
      },
      "text/plain": [
       "  0%|          | 0/2988 [00:00<?, ?it/s]"
      ]
     },
     "metadata": {},
     "output_type": "display_data"
    },
    {
     "name": "stdout",
     "output_type": "stream",
     "text": [
      "Inferring GRN for Endothelium...\n"
     ]
    },
    {
     "data": {
      "application/vnd.jupyter.widget-view+json": {
       "model_id": "d753373dd8944aa3824ec7866193dabc",
       "version_major": 2,
       "version_minor": 0
      },
      "text/plain": [
       "  0%|          | 0/2988 [00:00<?, ?it/s]"
      ]
     },
     "metadata": {},
     "output_type": "display_data"
    },
    {
     "name": "stdout",
     "output_type": "stream",
     "text": [
      "Inferring GRN for Epiblast...\n"
     ]
    },
    {
     "data": {
      "application/vnd.jupyter.widget-view+json": {
       "model_id": "90f02f23fb9e42cb9c25bcca881863ce",
       "version_major": 2,
       "version_minor": 0
      },
      "text/plain": [
       "  0%|          | 0/2988 [00:00<?, ?it/s]"
      ]
     },
     "metadata": {},
     "output_type": "display_data"
    },
    {
     "name": "stdout",
     "output_type": "stream",
     "text": [
      "Inferring GRN for Epidermis Progenitors...\n"
     ]
    },
    {
     "data": {
      "application/vnd.jupyter.widget-view+json": {
       "model_id": "88d65c8c92c1495fbc97b8e1f738d59f",
       "version_major": 2,
       "version_minor": 0
      },
      "text/plain": [
       "  0%|          | 0/2988 [00:00<?, ?it/s]"
      ]
     },
     "metadata": {},
     "output_type": "display_data"
    },
    {
     "name": "stdout",
     "output_type": "stream",
     "text": [
      "Inferring GRN for Erythrocytes...\n"
     ]
    },
    {
     "data": {
      "application/vnd.jupyter.widget-view+json": {
       "model_id": "eadafd44db6b4ead8f02e3fb6c4d322b",
       "version_major": 2,
       "version_minor": 0
      },
      "text/plain": [
       "  0%|          | 0/2988 [00:00<?, ?it/s]"
      ]
     },
     "metadata": {},
     "output_type": "display_data"
    },
    {
     "name": "stdout",
     "output_type": "stream",
     "text": [
      "Inferring GRN for ExE Endoderm...\n"
     ]
    },
    {
     "data": {
      "application/vnd.jupyter.widget-view+json": {
       "model_id": "e7375ad0d0dc41d0b3a7b30b290e6a9d",
       "version_major": 2,
       "version_minor": 0
      },
      "text/plain": [
       "  0%|          | 0/2988 [00:00<?, ?it/s]"
      ]
     },
     "metadata": {},
     "output_type": "display_data"
    },
    {
     "name": "stdout",
     "output_type": "stream",
     "text": [
      "Inferring GRN for Floor Plate Neural Tube...\n"
     ]
    },
    {
     "data": {
      "application/vnd.jupyter.widget-view+json": {
       "model_id": "09de60f3d3df4726bf833b169455c590",
       "version_major": 2,
       "version_minor": 0
      },
      "text/plain": [
       "  0%|          | 0/2988 [00:00<?, ?it/s]"
      ]
     },
     "metadata": {},
     "output_type": "display_data"
    },
    {
     "name": "stdout",
     "output_type": "stream",
     "text": [
      "Inferring GRN for LP/Intermediate Mesoderm...\n"
     ]
    },
    {
     "data": {
      "application/vnd.jupyter.widget-view+json": {
       "model_id": "cc086069c3b84b22934cee014fbdf044",
       "version_major": 2,
       "version_minor": 0
      },
      "text/plain": [
       "  0%|          | 0/2988 [00:00<?, ?it/s]"
      ]
     },
     "metadata": {},
     "output_type": "display_data"
    },
    {
     "name": "stdout",
     "output_type": "stream",
     "text": [
      "Inferring GRN for Late Motor Neurons...\n"
     ]
    },
    {
     "data": {
      "application/vnd.jupyter.widget-view+json": {
       "model_id": "d664cd51f32b432a995d9893fada7be4",
       "version_major": 2,
       "version_minor": 0
      },
      "text/plain": [
       "  0%|          | 0/2988 [00:00<?, ?it/s]"
      ]
     },
     "metadata": {},
     "output_type": "display_data"
    },
    {
     "name": "stdout",
     "output_type": "stream",
     "text": [
      "Inferring GRN for Megakaryocytes...\n"
     ]
    },
    {
     "data": {
      "application/vnd.jupyter.widget-view+json": {
       "model_id": "779e01cd84f949358fcb3eef7a0a5680",
       "version_major": 2,
       "version_minor": 0
      },
      "text/plain": [
       "  0%|          | 0/2988 [00:00<?, ?it/s]"
      ]
     },
     "metadata": {},
     "output_type": "display_data"
    },
    {
     "name": "stdout",
     "output_type": "stream",
     "text": [
      "Inferring GRN for Myotome...\n"
     ]
    },
    {
     "data": {
      "application/vnd.jupyter.widget-view+json": {
       "model_id": "d98b23e65e3c4d318ab87bf3d0652a94",
       "version_major": 2,
       "version_minor": 0
      },
      "text/plain": [
       "  0%|          | 0/2988 [00:00<?, ?it/s]"
      ]
     },
     "metadata": {},
     "output_type": "display_data"
    },
    {
     "name": "stdout",
     "output_type": "stream",
     "text": [
      "Inferring GRN for NMPs...\n"
     ]
    },
    {
     "data": {
      "application/vnd.jupyter.widget-view+json": {
       "model_id": "381c32d4eb3f4d39bc9a636219e18ee3",
       "version_major": 2,
       "version_minor": 0
      },
      "text/plain": [
       "  0%|          | 0/2988 [00:00<?, ?it/s]"
      ]
     },
     "metadata": {},
     "output_type": "display_data"
    },
    {
     "name": "stdout",
     "output_type": "stream",
     "text": [
      "Inferring GRN for Naive PGCs...\n"
     ]
    },
    {
     "data": {
      "application/vnd.jupyter.widget-view+json": {
       "model_id": "7a8a2d5ad70f4b8ebffe38ddd4119a5b",
       "version_major": 2,
       "version_minor": 0
      },
      "text/plain": [
       "  0%|          | 0/2988 [00:00<?, ?it/s]"
      ]
     },
     "metadata": {},
     "output_type": "display_data"
    },
    {
     "name": "stdout",
     "output_type": "stream",
     "text": [
      "Inferring GRN for Nascent Mesoderm...\n"
     ]
    },
    {
     "data": {
      "application/vnd.jupyter.widget-view+json": {
       "model_id": "b532036a5d9342eda6a13bb82938b864",
       "version_major": 2,
       "version_minor": 0
      },
      "text/plain": [
       "  0%|          | 0/2988 [00:00<?, ?it/s]"
      ]
     },
     "metadata": {},
     "output_type": "display_data"
    },
    {
     "name": "stdout",
     "output_type": "stream",
     "text": [
      "Inferring GRN for Neural Progenitors...\n"
     ]
    },
    {
     "data": {
      "application/vnd.jupyter.widget-view+json": {
       "model_id": "2ff23e0e50224c04abcaf968b1e86da7",
       "version_major": 2,
       "version_minor": 0
      },
      "text/plain": [
       "  0%|          | 0/2988 [00:00<?, ?it/s]"
      ]
     },
     "metadata": {},
     "output_type": "display_data"
    },
    {
     "name": "stdout",
     "output_type": "stream",
     "text": [
      "Inferring GRN for PGCs...\n"
     ]
    },
    {
     "data": {
      "application/vnd.jupyter.widget-view+json": {
       "model_id": "0b6a83a386414c44b96f325d8d6713dd",
       "version_major": 2,
       "version_minor": 0
      },
      "text/plain": [
       "  0%|          | 0/2988 [00:00<?, ?it/s]"
      ]
     },
     "metadata": {},
     "output_type": "display_data"
    },
    {
     "name": "stdout",
     "output_type": "stream",
     "text": [
      "Inferring GRN for Parietal Endoderm...\n"
     ]
    },
    {
     "data": {
      "application/vnd.jupyter.widget-view+json": {
       "model_id": "83bfca17cfd543d78f5885b053d0f892",
       "version_major": 2,
       "version_minor": 0
      },
      "text/plain": [
       "  0%|          | 0/2988 [00:00<?, ?it/s]"
      ]
     },
     "metadata": {},
     "output_type": "display_data"
    },
    {
     "name": "stdout",
     "output_type": "stream",
     "text": [
      "Inferring GRN for Pharyngeal Mesoderm...\n"
     ]
    },
    {
     "data": {
      "application/vnd.jupyter.widget-view+json": {
       "model_id": "8ebf64092db6439d88e43b70d2d61e01",
       "version_major": 2,
       "version_minor": 0
      },
      "text/plain": [
       "  0%|          | 0/2988 [00:00<?, ?it/s]"
      ]
     },
     "metadata": {},
     "output_type": "display_data"
    },
    {
     "name": "stdout",
     "output_type": "stream",
     "text": [
      "Inferring GRN for Primitive Streak...\n"
     ]
    },
    {
     "data": {
      "application/vnd.jupyter.widget-view+json": {
       "model_id": "c5a9930415454e77a38a9d1053a0bde7",
       "version_major": 2,
       "version_minor": 0
      },
      "text/plain": [
       "  0%|          | 0/2988 [00:00<?, ?it/s]"
      ]
     },
     "metadata": {},
     "output_type": "display_data"
    },
    {
     "name": "stdout",
     "output_type": "stream",
     "text": [
      "Inferring GRN for Reprogramming PGCs...\n"
     ]
    },
    {
     "data": {
      "application/vnd.jupyter.widget-view+json": {
       "model_id": "2e26d9271f584d6499c083ee282878f9",
       "version_major": 2,
       "version_minor": 0
      },
      "text/plain": [
       "  0%|          | 0/2988 [00:00<?, ?it/s]"
      ]
     },
     "metadata": {},
     "output_type": "display_data"
    },
    {
     "name": "stdout",
     "output_type": "stream",
     "text": [
      "Inferring GRN for Roof Plate Neural Tube...\n"
     ]
    },
    {
     "data": {
      "application/vnd.jupyter.widget-view+json": {
       "model_id": "0a64320ff2c3470490d17d2e9590696e",
       "version_major": 2,
       "version_minor": 0
      },
      "text/plain": [
       "  0%|          | 0/2988 [00:00<?, ?it/s]"
      ]
     },
     "metadata": {},
     "output_type": "display_data"
    },
    {
     "name": "stdout",
     "output_type": "stream",
     "text": [
      "Inferring GRN for Sclerotome...\n"
     ]
    },
    {
     "data": {
      "application/vnd.jupyter.widget-view+json": {
       "model_id": "505a16ac83364434b44838323abac13e",
       "version_major": 2,
       "version_minor": 0
      },
      "text/plain": [
       "  0%|          | 0/2988 [00:00<?, ?it/s]"
      ]
     },
     "metadata": {},
     "output_type": "display_data"
    },
    {
     "name": "stdout",
     "output_type": "stream",
     "text": [
      "Inferring GRN for Visceral Endoderm...\n"
     ]
    },
    {
     "data": {
      "application/vnd.jupyter.widget-view+json": {
       "model_id": "9a9c0a4f703c4829af6efcb3c32bf9e7",
       "version_major": 2,
       "version_minor": 0
      },
      "text/plain": [
       "  0%|          | 0/2988 [00:00<?, ?it/s]"
      ]
     },
     "metadata": {},
     "output_type": "display_data"
    },
    {
     "data": {
      "application/vnd.jupyter.widget-view+json": {
       "model_id": "45f4d479449f41a8a4faaecd42aec834",
       "version_major": 2,
       "version_minor": 0
      },
      "text/plain": [
       "  0%|          | 0/30 [00:00<?, ?it/s]"
      ]
     },
     "metadata": {},
     "output_type": "display_data"
    },
    {
     "name": "stdout",
     "output_type": "stream",
     "text": [
      "links comp done\n"
     ]
    },
    {
     "data": {
      "text/plain": [
       "<CellOracleSetupWithTFDict.Setup at 0x7a9a86f841f0>"
      ]
     },
     "execution_count": 4,
     "metadata": {},
     "output_type": "execute_result"
    }
   ],
   "source": [
    "import CellOracleSetupWithTFDict as setup_module\n",
    "import scanpy as sc\n",
    "data_path_without_mescs = os.path.join(data_path, \"scrna_final_celloc/V_unspliced_norm_log_WO_MESC_test/own_umap/train_data.h5ad\")\n",
    "scrna_seq = sc.read_h5ad(data_path_without_mescs)\n",
    "#show umap present in scrna_seq\n",
    "sc.pl.umap(scrna_seq, show=True, color='celltype')\n",
    "\n",
    "print(scrna_seq)\n",
    "# print(scrna_seq.X)\n",
    "\n",
    "tf_dict = cng.create_dict_from_csv(scrna_seq)\n",
    "print(len(tf_dict))\n",
    "output_dir_trained_celloc = os.path.join(data_path, \"celloracle_object/new_promoter_without_mescs_trimmed_test_own_umap\")\n",
    "#print the unique celltypes\n",
    "setup_module.Setup(tf_dict = tf_dict,scRNA_dat = scrna_seq,cluster_name=\"celltype\",embedding_name = \"X_umap\", output_dir=output_dir_trained_celloc,load_from_file_cellOc=False, load_from_file_links=False, load_dir =\"\")\n"
   ]
  },
  {
   "cell_type": "code",
   "execution_count": null,
   "id": "4c1029e8359145e0",
   "metadata": {},
   "outputs": [],
   "source": []
  }
 ],
 "metadata": {
  "kernelspec": {
   "display_name": "Python 3",
   "language": "python",
   "name": "python3"
  },
  "language_info": {
   "codemirror_mode": {
    "name": "ipython",
    "version": 2
   },
   "file_extension": ".py",
   "mimetype": "text/x-python",
   "name": "python",
   "nbconvert_exporter": "python",
   "pygments_lexer": "ipython2",
   "version": "2.7.6"
  }
 },
 "nbformat": 4,
 "nbformat_minor": 5
}
